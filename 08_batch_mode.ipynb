{
 "cells": [
  {
   "cell_type": "code",
   "execution_count": null,
   "id": "3136799e-db4c-4977-b1c6-08ae3d33254a",
   "metadata": {},
   "outputs": [],
   "source": [
    "#default_exp batch"
   ]
  },
  {
   "cell_type": "code",
   "execution_count": null,
   "id": "43ee2977-415b-4fe1-bcb5-f6f294f38d4a",
   "metadata": {},
   "outputs": [],
   "source": [
    "import os\n",
    "os.environ['TF_CPP_MIN_LOG_LEVEL'] = '3'"
   ]
  },
  {
   "cell_type": "code",
   "execution_count": null,
   "id": "6c095b88-519b-4576-8404-ca988172468c",
   "metadata": {},
   "outputs": [],
   "source": [
    "from fastai.vision import *\n",
    "import tensorflow.compat.v1 as tf\n",
    "import pydicom\n",
    "from tempfile import mkstemp\n",
    "import warnings\n",
    "warnings.filterwarnings('ignore')"
   ]
  },
  {
   "cell_type": "code",
   "execution_count": null,
   "id": "e975c17b-ea04-4c4d-8314-24b44d00aa0c",
   "metadata": {},
   "outputs": [],
   "source": [
    "#exporti\n",
    "import os\n",
    "import pandas as pd\n",
    "from misas.core import *\n",
    "from misas.mri import *\n",
    "import altair as alt\n",
    "from tqdm.notebook import tqdm\n",
    "from tempfile import mkdtemp\n",
    "from functools import partial"
   ]
  },
  {
   "cell_type": "markdown",
   "id": "70334965-9267-473f-887b-c36c3b332200",
   "metadata": {},
   "source": [
    "## Aim: Getting a first impression on the models performance on the given data before going into detailed evaluation\n",
    "\n",
    "In this case study we demonstrate how `misas` can give you an overview of the performance of the model by creating plots that show the average dice score of the whole batch of images over different parameters:\n",
    " - **Model**: `ukbb_cardiac` [network](https://github.com/baiwenjia/ukbb_cardiac) by [Bai et al. 2018 [1]](https://doi.org/10.1186/s12968-018-0471-x), trained on [UK Biobank](https://www.ukbiobank.ac.uk/) cardiac MRI images\n",
    " - **Data**: Kaggle [Data Science Bowl Cardiac Challenge Data](https://www.kaggle.com/c/second-annual-data-science-bowl) MRI images"
   ]
  },
  {
   "cell_type": "markdown",
   "id": "81cd6a6e-740c-43cd-989c-969188b2f33d",
   "metadata": {},
   "source": [
    "# Prepare Model for Misas"
   ]
  },
  {
   "cell_type": "markdown",
   "id": "407dd2ef-bc12-4c0b-ab5c-d0f194f7d56b",
   "metadata": {},
   "source": [
    "The used model was trained on UK Biobank cardiac imaging data to segment short-axis images of the heart into left ventricle (LV), right ventricle (RV) and myocardium (MY). For details about the model please read [the paper (Bai et al. 2018)](https://doi.org/10.1186/s12968-018-0471-x) and cite it if you use it. For implementation, training and usage see the [GitHub repository](https://github.com/baiwenjia/ukbb_cardiac). We downloaded the pre-trained model for short-axis images from https://www.doc.ic.ac.uk/~wbai/data/ukbb_cardiac/trained_model/ (local copy in `example/kaggle/FCN_sa`). In order to use it with `misas` we need to wrap it in a class that implements the desired interface (`prepareSize` and `predict` taking `Image` as input, see the main docu for more details).\n",
    "\n",
    "`ukbb_cardiac` is written in `tensorflow` v1. With `tensorflow` v2 make sure to import the compat module."
   ]
  },
  {
   "cell_type": "markdown",
   "id": "24b8e09a-92ad-4e1d-aa7a-01c3ffe7491c",
   "metadata": {},
   "source": [
    "The model requires images to be a multiple of 16 in each dimension. We pad images accordingly in `prepareSize`. Additionally, code in `image_to_input` takes care of the specifics of transforming a three-channel image into a single-item batch of single-channel images. In `predict` the output is converted to `ImageSegment` class."
   ]
  },
  {
   "cell_type": "code",
   "execution_count": null,
   "id": "ece6d9b9-c4b6-4d04-bb63-7fbbf7b97c18",
   "metadata": {},
   "outputs": [],
   "source": [
    "class ukbb_model:\n",
    "    def __init__(self, model_path):\n",
    "        tf.disable_eager_execution()\n",
    "        self.sess = tf.Session()\n",
    "        self.sess.run(tf.global_variables_initializer())\n",
    "        saver = tf.train.import_meta_graph(f'{model_path}.meta')\n",
    "        saver.restore(self.sess, model_path)\n",
    "        \n",
    "    def prepareSize(self, image):\n",
    "        _, X, Y = image.shape\n",
    "        image.crop_pad((int(math.ceil(X / 16.0)) * 16, int(math.ceil(Y / 16.0)) * 16), padding_mode=\"zeros\")\n",
    "        return image\n",
    "    \n",
    "    def image_to_input(self, image):\n",
    "        img = image.clone()\n",
    "        self.prepareSize(img)\n",
    "        img_data = img.data[0]\n",
    "        img_data = np.expand_dims(img_data, 0)\n",
    "        img_data = np.expand_dims(img_data, -1)\n",
    "        return img_data\n",
    "    \n",
    "    def predict(self, image):\n",
    "        image_data = self.image_to_input(image)\n",
    "        preds, classes = self.sess.run(['prob:0', 'pred:0'],\n",
    "                   feed_dict={'image:0': image_data, 'training:0': False})\n",
    "        preds = np.squeeze(preds, 0)\n",
    "        classes = ImageSegment(ByteTensor(classes))\n",
    "        return classes, preds"
   ]
  },
  {
   "cell_type": "code",
   "execution_count": null,
   "id": "761dcc05-408f-4add-98ed-ecf3f7f3d433",
   "metadata": {},
   "outputs": [
    {
     "name": "stdout",
     "output_type": "stream",
     "text": [
      "INFO:tensorflow:Restoring parameters from example/kaggle/FCN_sa\n"
     ]
    }
   ],
   "source": [
    "model = ukbb_model('example/kaggle/FCN_sa')\n",
    "import warnings\n",
    "warnings.filterwarnings('ignore')"
   ]
  },
  {
   "cell_type": "markdown",
   "id": "e07d8941-7ca6-4c01-b9f7-68e6a7dc801c",
   "metadata": {},
   "source": [
    "# Prepare Images"
   ]
  },
  {
   "cell_type": "code",
   "execution_count": null,
   "id": "544d6d9e-4d1f-4022-aae1-8fe51e39c778",
   "metadata": {},
   "outputs": [],
   "source": [
    "def windowed(tensor, width, center):\n",
    "    '''Scale pixel intensity by window width and window center'''\n",
    "    px = tensor.clone()\n",
    "    px_min = center - width//2\n",
    "    px_max = center + width//2\n",
    "    px[px<px_min] = px_min\n",
    "    px[px>px_max] = px_max\n",
    "    return (px-px_min) / (px_max-px_min)"
   ]
  },
  {
   "cell_type": "code",
   "execution_count": null,
   "id": "39b535cf-62bd-47d1-b494-704e1c05d5e9",
   "metadata": {},
   "outputs": [],
   "source": [
    "#exporti\n",
    "def dicom_to_Image(file):\n",
    "    '''Reading the Dicom file and bringing the image into correct format and orientation for downstream evaluations'''\n",
    "    dcm = pydicom.dcmread(file)\n",
    "    img = Tensor(dcm.pixel_array.astype(np.int16))\n",
    "    img = windowed(img, dcm.WindowWidth, dcm.WindowCenter)\n",
    "    img = Image(torch.stack([img, img, img]))    # to convert Tensor into Image object, 3 dimensions are needed\n",
    "    img = img.flip_lr()\n",
    "    img = img.rotate(90)\n",
    "    return img"
   ]
  },
  {
   "cell_type": "code",
   "execution_count": null,
   "id": "3632cbae-f1e9-44f5-af3b-3965d153373a",
   "metadata": {},
   "outputs": [],
   "source": [
    "files = [\"example/kaggle/sample_images/IM-13717-0026.dcm\",\n",
    "        \"example/kaggle/sample_images/IM-7453-0024.dcm\",\n",
    "        \"example/kaggle/sample_images/IM-4718-0021.dcm\",\n",
    "        #\"example/kaggle/sample_images/IM-5022-0015.dcm\",\n",
    "        #\"example/kaggle/sample_images/IM-14141-0011.dcm\",\n",
    "        #\"example/kaggle/sample_images/IM-13811-0003.dcm\",\n",
    "        #\"example/kaggle/sample_images/IM-5382-0008.dcm\"\n",
    "        ]"
   ]
  },
  {
   "cell_type": "markdown",
   "id": "8a6a0193-f8ce-47f9-8b68-922d65b6b500",
   "metadata": {},
   "source": [
    "# Evaluation"
   ]
  },
  {
   "cell_type": "markdown",
   "id": "d311bec7-b335-49c6-bacc-b9603a12ee33",
   "metadata": {},
   "source": [
    "If true_masks is \"None\", the model will predict a mask for every image, save it as png in a newly created directory and use this mask as truth for the evaluation and afterwards delete the directory and the contained predicted thruths. Thus, it is important to hand in the images in an orientation in which the model makes good predictions, in this case this is handled, by the \"prepareImage\" function, which reads the dicom file, converts it to a fastai Image object, and rotates and flips the image into correct position"
   ]
  },
  {
   "cell_type": "code",
   "execution_count": null,
   "id": "589d99d6-9fd2-494f-ae47-6ea235cf5a71",
   "metadata": {},
   "outputs": [],
   "source": [
    "#export\n",
    "def batch_results(images, model, eval_functions, true_masks=None, components=['bg','LV','MY','RV']):\n",
    "    ''' Evaluation of the models performance across multiple images and transformations\n",
    "    \n",
    "    -images (list): paths for dicom files with which the model should be evaluated\n",
    "    -model: model to be evaluated\n",
    "    -eval_functions (list): names of the eval functions from misas.core that should be evaluated\n",
    "    -true_masks (list, optional): paths of png files with true masks for dicoms in 'images' in the same order as 'images'\n",
    "    -components (list, optional): classes that will be evaluated by the eval functions\n",
    "    \n",
    "    Returns: list of Pandas dataFrames, that contains one dataFrame for each image with the columns: 'parameter', 'bg', 'LV', 'MY', 'RV', 'File'\n",
    "    '''\n",
    "    results = []\n",
    "    for x in tqdm(eval_functions, leave=False):\n",
    "        trfm_result = []\n",
    "        for index, i in enumerate(images):\n",
    "            img = lambda: dicom_to_Image(i)\n",
    "            tmp = tempfile.mkdtemp()\n",
    "            if true_masks == None:\n",
    "                truth_path = os.path.join(tmp, \"current_truth.png\")\n",
    "                truth = model.predict(img())[0]\n",
    "                truth.save(truth_path)\n",
    "                true_mask = lambda: open_mask(truth_path)\n",
    "            elif true_masks != None:\n",
    "                true_mask = lambda: open_mask(true_masks[index])\n",
    "            df = x(img(), true_mask(), model, components=components)\n",
    "            df[\"File\"] = i\n",
    "            trfm_result.append(df)\n",
    "            shutil.rmtree(tmp)\n",
    "        trfm_result = pd.concat(trfm_result)\n",
    "        results.append(trfm_result)\n",
    "    return results"
   ]
  },
  {
   "cell_type": "markdown",
   "id": "9ce8bc88-e444-4c7d-af7b-0da708c5e795",
   "metadata": {},
   "source": [
    "In this example we are passing a list of true masks to the function that will be used for evaluation. Since this is only for demonstration purposes, we will manually generate the list of true masks by predicting the truth for every image and saving it to a temporary directory and storing the path names in a list, from where `batch_results` can access it."
   ]
  },
  {
   "cell_type": "code",
   "execution_count": null,
   "id": "8b1a379e-e7dc-4109-bbf8-7334b6dbd001",
   "metadata": {},
   "outputs": [],
   "source": [
    "truths = []\n",
    "for i in files:\n",
    "    img = dicom_to_Image(i)\n",
    "    truth = model.predict(img)[0]\n",
    "    tmpfile = mkstemp()\n",
    "    truth.save(tmpfile[1] + \".png\")\n",
    "    truths.append(tmpfile[1] + \".png\")"
   ]
  },
  {
   "cell_type": "code",
   "execution_count": null,
   "id": "b235d390-b1b3-4f86-abd5-cbd89e352313",
   "metadata": {},
   "outputs": [
    {
     "data": {
      "application/vnd.jupyter.widget-view+json": {
       "model_id": "",
       "version_major": 2,
       "version_minor": 0
      },
      "text/plain": [
       "  0%|          | 0/2 [00:00<?, ?it/s]"
      ]
     },
     "metadata": {},
     "output_type": "display_data"
    },
    {
     "data": {
      "application/vnd.jupyter.widget-view+json": {
       "model_id": "",
       "version_major": 2,
       "version_minor": 0
      },
      "text/plain": [
       "  0%|          | 0/72 [00:00<?, ?it/s]"
      ]
     },
     "metadata": {},
     "output_type": "display_data"
    },
    {
     "data": {
      "application/vnd.jupyter.widget-view+json": {
       "model_id": "",
       "version_major": 2,
       "version_minor": 0
      },
      "text/plain": [
       "  0%|          | 0/72 [00:00<?, ?it/s]"
      ]
     },
     "metadata": {},
     "output_type": "display_data"
    },
    {
     "data": {
      "application/vnd.jupyter.widget-view+json": {
       "model_id": "",
       "version_major": 2,
       "version_minor": 0
      },
      "text/plain": [
       "  0%|          | 0/72 [00:00<?, ?it/s]"
      ]
     },
     "metadata": {},
     "output_type": "display_data"
    },
    {
     "data": {
      "application/vnd.jupyter.widget-view+json": {
       "model_id": "",
       "version_major": 2,
       "version_minor": 0
      },
      "text/plain": [
       "  0%|          | 0/8 [00:00<?, ?it/s]"
      ]
     },
     "metadata": {},
     "output_type": "display_data"
    },
    {
     "data": {
      "application/vnd.jupyter.widget-view+json": {
       "model_id": "",
       "version_major": 2,
       "version_minor": 0
      },
      "text/plain": [
       "  0%|          | 0/8 [00:00<?, ?it/s]"
      ]
     },
     "metadata": {},
     "output_type": "display_data"
    },
    {
     "data": {
      "application/vnd.jupyter.widget-view+json": {
       "model_id": "",
       "version_major": 2,
       "version_minor": 0
      },
      "text/plain": [
       "  0%|          | 0/8 [00:00<?, ?it/s]"
      ]
     },
     "metadata": {},
     "output_type": "display_data"
    }
   ],
   "source": [
    "results_with_truths = batch_results(files, model, [\n",
    "                                    eval_rotation_series,\n",
    "                                    #eval_bright_series,\n",
    "                                    #eval_crop_series,\n",
    "                                    #eval_contrast_series,\n",
    "                                    eval_dihedral_series,\n",
    "                                    #eval_resize_series,\n",
    "                                    #eval_spike_series,\n",
    "                                    #eval_spike_pos_series,\n",
    "                                    #eval_zoom_series\n",
    "                                    ], components=['bg','LV','MY','RV'], true_masks=truths)"
   ]
  },
  {
   "cell_type": "markdown",
   "id": "4d36ad2e-1fc4-4113-9b79-6f707d554f64",
   "metadata": {},
   "source": [
    "To demonstrate that the function can also evaluate the models performance without passing a list of true masks on to the function, in this example we do not pass a list of PNGs with true masks to the function, so the model predicts one for every image, saves it as png and uses it for evaluation. In this case it is important that the evaluated images are passed to the function in an orientation in which the model can make a good prediction, since this prediction is used as the true mask for all the following transformations. In this case this is handled by the `dicom_to_Image` function, which converts the image into the desiered orientation."
   ]
  },
  {
   "cell_type": "code",
   "execution_count": null,
   "id": "174405d3-1a53-4c24-ba06-b9146bd338dd",
   "metadata": {},
   "outputs": [
    {
     "data": {
      "application/vnd.jupyter.widget-view+json": {
       "model_id": "",
       "version_major": 2,
       "version_minor": 0
      },
      "text/plain": [
       "  0%|          | 0/1 [00:00<?, ?it/s]"
      ]
     },
     "metadata": {},
     "output_type": "display_data"
    },
    {
     "data": {
      "application/vnd.jupyter.widget-view+json": {
       "model_id": "",
       "version_major": 2,
       "version_minor": 0
      },
      "text/plain": [
       "  0%|          | 0/8 [00:00<?, ?it/s]"
      ]
     },
     "metadata": {},
     "output_type": "display_data"
    },
    {
     "data": {
      "application/vnd.jupyter.widget-view+json": {
       "model_id": "",
       "version_major": 2,
       "version_minor": 0
      },
      "text/plain": [
       "  0%|          | 0/8 [00:00<?, ?it/s]"
      ]
     },
     "metadata": {},
     "output_type": "display_data"
    },
    {
     "data": {
      "application/vnd.jupyter.widget-view+json": {
       "model_id": "",
       "version_major": 2,
       "version_minor": 0
      },
      "text/plain": [
       "  0%|          | 0/8 [00:00<?, ?it/s]"
      ]
     },
     "metadata": {},
     "output_type": "display_data"
    }
   ],
   "source": [
    "results_without_truths = batch_results(files, model, [\n",
    "                                       #eval_rotation_series,\n",
    "                                       #eval_bright_series,\n",
    "                                       #eval_crop_series,\n",
    "                                       #eval_contrast_series,\n",
    "                                       eval_dihedral_series,\n",
    "                                       #eval_resize_series,\n",
    "                                       #eval_spike_series,\n",
    "                                       #eval_spike_pos_series,\n",
    "                                        #eval_zoom_series\n",
    "                                      ], components=['bg','LV','MY','RV'])"
   ]
  },
  {
   "cell_type": "markdown",
   "id": "6b96296e-3a5c-4b4e-9244-488a29607d84",
   "metadata": {},
   "source": [
    "# Plotting the results"
   ]
  },
  {
   "cell_type": "code",
   "execution_count": null,
   "id": "f79e2bbd-56ec-41ff-aabe-2eb2de169b55",
   "metadata": {},
   "outputs": [],
   "source": [
    "#export\n",
    "def plot_batch(df_results, plot_function=plot_avg_and_dots):\n",
    "    '''\n",
    "    Creates and displays the plots with the data as returned by the batch_results functions. \n",
    "    \n",
    "    Positional arguments:\n",
    "    -df_results (list): dataframes which contains one dataFrame for each transformation in a format as it is returned by `batch_results`\n",
    "    Keyword arguments:\n",
    "    -plot_function:\n",
    "        - plot_avg_and_errorbars: plots the average of the dice score of all images across the parameters and shows the standarddeviation as errorbars\n",
    "        - plot_avg_and_dots: plots the average of the dice score and additionally shows the single datapoints instead of errorbars\n",
    "        - plot_boxplot\n",
    "    \n",
    "    Returns: List with altair.FacetChart objects\n",
    "    '''\n",
    "    plots = []\n",
    "    for i in df_results:\n",
    "        plot = plot_function(i)\n",
    "        plots.append(plot)\n",
    "    for p in plots:\n",
    "        p.display()\n",
    "    return plots"
   ]
  },
  {
   "cell_type": "code",
   "execution_count": null,
   "id": "771ad01e-bfac-47c3-975c-8c580afefa86",
   "metadata": {},
   "outputs": [],
   "source": [
    "#export\n",
    "def plot_avg_and_dots(df, draw_line=True):\n",
    "    '''\n",
    "    Plots the average dice score and shows the single data points\n",
    "    \n",
    "    Positional arguments:\n",
    "    -df (pd.DataFrame object): columns: 'parameter', 'bg', 'LV', 'MY', 'RV', 'File'\n",
    "    \n",
    "    Returns: altair.FacetChart object\n",
    "    '''\n",
    "    melt_results = df.melt(id_vars=df.columns[0], value_vars=df.columns[2:5])\n",
    "    dot_plot = alt.Chart(melt_results\n",
    "                ).mark_point(\n",
    "                ).encode(x=melt_results.columns[0], y=\"value\", color=alt.Color(\"variable\")\n",
    "                ).properties(width=400, height=200\n",
    "                ).interactive()\n",
    "    if draw_line == True:\n",
    "        avg_line_plot = alt.Chart(melt_results\n",
    "                    ).mark_line(\n",
    "                    ).encode(x=melt_results.columns[0], y=\"average(value)\", color=alt.Color(\"variable\")\n",
    "                    ).properties(width=400, height=200\n",
    "                    ).interactive()\n",
    "        plot = alt.layer(dot_plot, avg_line_plot).facet(column=\"variable\")\n",
    "    else:\n",
    "        plot = dot_plot.facet(column=\"variable\")\n",
    "    return plot"
   ]
  },
  {
   "cell_type": "code",
   "execution_count": null,
   "id": "990fcace-7642-4fce-b7bf-2c198b275696",
   "metadata": {},
   "outputs": [],
   "source": [
    "#export\n",
    "def plot_avg_and_errorbars(df):\n",
    "    '''\n",
    "    Plots the average dice score and shows the stdev as errorbars.\n",
    "    \n",
    "    Positional arguments:\n",
    "    -df (pd.DataFrame object): columns: 'parameter', 'bg', 'LV', 'MY', 'RV', 'File'\n",
    "    \n",
    "    Returns: altair.FacetChart object\n",
    "    '''\n",
    "    melt_results = df.melt(id_vars=df.columns[0], value_vars=df.columns[2:5])\n",
    "    avg_line_plot = alt.Chart(melt_results\n",
    "                ).mark_line(\n",
    "                ).encode(x=melt_results.columns[0], y=\"average(value)\", color=alt.Color(\"variable\")\n",
    "                ).properties(width=400, height=200\n",
    "                ).interactive()\n",
    "    error_bars = alt.Chart(melt_results\n",
    "                ).mark_errorbar(extent='stdev'\n",
    "                ).encode(x=melt_results.columns[0], y=\"value\", color=alt.Color(\"variable\"))\n",
    "    plot = alt.layer(avg_line_plot, error_bars).facet(column=\"variable\")\n",
    "    return plot"
   ]
  },
  {
   "cell_type": "code",
   "execution_count": null,
   "id": "8f78a82e-9dec-4a98-a8ea-23e9a7cb06d6",
   "metadata": {},
   "outputs": [],
   "source": [
    "#export\n",
    "def plot_boxplot(df):\n",
    "    '''\n",
    "    Plots the average dice score as boxplots\n",
    "    \n",
    "    Positional arguments:\n",
    "    -df (pd.DataFrame object): columns: 'parameter', 'bg', 'LV', 'MY', 'RV', 'File'\n",
    "    \n",
    "    Returns: altair.FacetChart object\n",
    "    '''\n",
    "    melt_results = df.melt(id_vars=df.columns[0], value_vars=df.columns[2:5])\n",
    "    plot = alt.Chart(melt_results\n",
    "                ).mark_boxplot(extent=\"min-max\", size=5\n",
    "                ).encode(x=alt.X(melt_results.columns[0]), y=alt.Y(\"value\"), color=alt.Color(\"variable\")\n",
    "                ).properties(width=400, height=200\n",
    "                ).facet(column=\"variable\"\n",
    "                ).interactive()\n",
    "    return plot"
   ]
  },
  {
   "cell_type": "code",
   "execution_count": null,
   "id": "1b5b3555-1e7b-4f02-8e2b-d1eb8894ee32",
   "metadata": {},
   "outputs": [
    {
     "data": {
      "text/html": [
       "\n",
       "<div id=\"altair-viz-52b6db09ba384a1d9f26b89bc30e1188\"></div>\n",
       "<script type=\"text/javascript\">\n",
       "  var VEGA_DEBUG = (typeof VEGA_DEBUG == \"undefined\") ? {} : VEGA_DEBUG;\n",
       "  (function(spec, embedOpt){\n",
       "    let outputDiv = document.currentScript.previousElementSibling;\n",
       "    if (outputDiv.id !== \"altair-viz-52b6db09ba384a1d9f26b89bc30e1188\") {\n",
       "      outputDiv = document.getElementById(\"altair-viz-52b6db09ba384a1d9f26b89bc30e1188\");\n",
       "    }\n",
       "    const paths = {\n",
       "      \"vega\": \"https://cdn.jsdelivr.net/npm//vega@5?noext\",\n",
       "      \"vega-lib\": \"https://cdn.jsdelivr.net/npm//vega-lib?noext\",\n",
       "      \"vega-lite\": \"https://cdn.jsdelivr.net/npm//vega-lite@4.17.0?noext\",\n",
       "      \"vega-embed\": \"https://cdn.jsdelivr.net/npm//vega-embed@6?noext\",\n",
       "    };\n",
       "\n",
       "    function maybeLoadScript(lib, version) {\n",
       "      var key = `${lib.replace(\"-\", \"\")}_version`;\n",
       "      return (VEGA_DEBUG[key] == version) ?\n",
       "        Promise.resolve(paths[lib]) :\n",
       "        new Promise(function(resolve, reject) {\n",
       "          var s = document.createElement('script');\n",
       "          document.getElementsByTagName(\"head\")[0].appendChild(s);\n",
       "          s.async = true;\n",
       "          s.onload = () => {\n",
       "            VEGA_DEBUG[key] = version;\n",
       "            return resolve(paths[lib]);\n",
       "          };\n",
       "          s.onerror = () => reject(`Error loading script: ${paths[lib]}`);\n",
       "          s.src = paths[lib];\n",
       "        });\n",
       "    }\n",
       "\n",
       "    function showError(err) {\n",
       "      outputDiv.innerHTML = `<div class=\"error\" style=\"color:red;\">${err}</div>`;\n",
       "      throw err;\n",
       "    }\n",
       "\n",
       "    function displayChart(vegaEmbed) {\n",
       "      vegaEmbed(outputDiv, spec, embedOpt)\n",
       "        .catch(err => showError(`Javascript Error: ${err.message}<br>This usually means there's a typo in your chart specification. See the javascript console for the full traceback.`));\n",
       "    }\n",
       "\n",
       "    if(typeof define === \"function\" && define.amd) {\n",
       "      requirejs.config({paths});\n",
       "      require([\"vega-embed\"], displayChart, err => showError(`Error loading script: ${err.message}`));\n",
       "    } else {\n",
       "      maybeLoadScript(\"vega\", \"5\")\n",
       "        .then(() => maybeLoadScript(\"vega-lite\", \"4.17.0\"))\n",
       "        .then(() => maybeLoadScript(\"vega-embed\", \"6\"))\n",
       "        .catch(showError)\n",
       "        .then(() => displayChart(vegaEmbed));\n",
       "    }\n",
       "  })({\"config\": {\"view\": {\"continuousWidth\": 400, \"continuousHeight\": 300}}, \"data\": {\"name\": \"data-b3e2078c6e2e940ac367933a606826e7\"}, \"facet\": {\"column\": {\"field\": \"variable\", \"type\": \"nominal\"}}, \"spec\": {\"mark\": \"point\", \"encoding\": {\"color\": {\"field\": \"variable\", \"type\": \"nominal\"}, \"x\": {\"field\": \"deg\", \"type\": \"quantitative\"}, \"y\": {\"field\": \"value\", \"type\": \"quantitative\"}}, \"height\": 200, \"selection\": {\"selector005\": {\"type\": \"interval\", \"bind\": \"scales\", \"encodings\": [\"x\", \"y\"]}}, \"width\": 400}, \"$schema\": \"https://vega.github.io/schema/vega-lite/v4.17.0.json\", \"datasets\": {\"data-b3e2078c6e2e940ac367933a606826e7\": [{\"deg\": 0, \"variable\": \"LV\", \"value\": 1.0}, {\"deg\": 5, \"variable\": \"LV\", \"value\": 0.9878731369972229}, {\"deg\": 10, \"variable\": \"LV\", \"value\": 0.9836677312850952}, {\"deg\": 15, \"variable\": \"LV\", \"value\": 0.9808142185211182}, {\"deg\": 20, \"variable\": \"LV\", \"value\": 0.9804104566574097}, {\"deg\": 25, \"variable\": \"LV\", \"value\": 0.9802817106246948}, {\"deg\": 30, \"variable\": \"LV\", \"value\": 0.983208954334259}, {\"deg\": 35, \"variable\": \"LV\", \"value\": 0.9841121435165405}, {\"deg\": 40, \"variable\": \"LV\", \"value\": 0.979897141456604}, {\"deg\": 45, \"variable\": \"LV\", \"value\": 0.9729225039482117}, {\"deg\": 50, \"variable\": \"LV\", \"value\": 0.9706293940544128}, {\"deg\": 55, \"variable\": \"LV\", \"value\": 0.9700934290885925}, {\"deg\": 60, \"variable\": \"LV\", \"value\": 0.9432234168052673}, {\"deg\": 65, \"variable\": \"LV\", \"value\": 0.9573283791542053}, {\"deg\": 70, \"variable\": \"LV\", \"value\": 0.9619539976119995}, {\"deg\": 75, \"variable\": \"LV\", \"value\": 0.9619539976119995}, {\"deg\": 80, \"variable\": \"LV\", \"value\": 0.9614298939704895}, {\"deg\": 85, \"variable\": \"LV\", \"value\": 0.956851601600647}, {\"deg\": 90, \"variable\": \"LV\", \"value\": 0.958117663860321}, {\"deg\": 95, \"variable\": \"LV\", \"value\": 0.9557439088821411}, {\"deg\": 100, \"variable\": \"LV\", \"value\": 0.9544386863708496}, {\"deg\": 105, \"variable\": \"LV\", \"value\": 0.9512194991111755}, {\"deg\": 110, \"variable\": \"LV\", \"value\": 0.9520676732063293}, {\"deg\": 115, \"variable\": \"LV\", \"value\": 0.9526044130325317}, {\"deg\": 120, \"variable\": \"LV\", \"value\": 0.9553781151771545}, {\"deg\": 125, \"variable\": \"LV\", \"value\": 0.9547169804573059}, {\"deg\": 130, \"variable\": \"LV\", \"value\": 0.9338303804397583}, {\"deg\": 135, \"variable\": \"LV\", \"value\": 0.9252767562866211}, {\"deg\": 140, \"variable\": \"LV\", \"value\": 0.8768225312232971}, {\"deg\": 145, \"variable\": \"LV\", \"value\": 0.8696527481079102}, {\"deg\": 150, \"variable\": \"LV\", \"value\": 0.8917449116706848}, {\"deg\": 155, \"variable\": \"LV\", \"value\": 0.8492307662963867}, {\"deg\": 160, \"variable\": \"LV\", \"value\": 0.7794361710548401}, {\"deg\": 165, \"variable\": \"LV\", \"value\": 0.8710010051727295}, {\"deg\": 170, \"variable\": \"LV\", \"value\": 0.8574380278587341}, {\"deg\": 175, \"variable\": \"LV\", \"value\": 0.8648374080657959}, {\"deg\": 180, \"variable\": \"LV\", \"value\": 0.7721796035766602}, {\"deg\": 185, \"variable\": \"LV\", \"value\": 0.8317659497261047}, {\"deg\": 190, \"variable\": \"LV\", \"value\": 0.9126213788986206}, {\"deg\": 195, \"variable\": \"LV\", \"value\": 0.7031700015068054}, {\"deg\": 200, \"variable\": \"LV\", \"value\": 0.4740740656852722}, {\"deg\": 205, \"variable\": \"LV\", \"value\": 0.6359782218933105}, {\"deg\": 210, \"variable\": \"LV\", \"value\": 0.48757556080818176}, {\"deg\": 215, \"variable\": \"LV\", \"value\": 0.523809552192688}, {\"deg\": 220, \"variable\": \"LV\", \"value\": 0.5777218341827393}, {\"deg\": 225, \"variable\": \"LV\", \"value\": 0.5808497071266174}, {\"deg\": 230, \"variable\": \"LV\", \"value\": 0.5114094018936157}, {\"deg\": 235, \"variable\": \"LV\", \"value\": 0.4945504069328308}, {\"deg\": 240, \"variable\": \"LV\", \"value\": 0.528253972530365}, {\"deg\": 245, \"variable\": \"LV\", \"value\": 0.5656565427780151}, {\"deg\": 250, \"variable\": \"LV\", \"value\": 0.8482651710510254}, {\"deg\": 255, \"variable\": \"LV\", \"value\": 0.8271865248680115}, {\"deg\": 260, \"variable\": \"LV\", \"value\": 0.8578732013702393}, {\"deg\": 265, \"variable\": \"LV\", \"value\": 0.8997554779052734}, {\"deg\": 270, \"variable\": \"LV\", \"value\": 0.9477155208587646}, {\"deg\": 275, \"variable\": \"LV\", \"value\": 0.9438629746437073}, {\"deg\": 280, \"variable\": \"LV\", \"value\": 0.9511153101921082}, {\"deg\": 285, \"variable\": \"LV\", \"value\": 0.9523809552192688}, {\"deg\": 290, \"variable\": \"LV\", \"value\": 0.9531915187835693}, {\"deg\": 295, \"variable\": \"LV\", \"value\": 0.9564806222915649}, {\"deg\": 300, \"variable\": \"LV\", \"value\": 0.9580386877059937}, {\"deg\": 305, \"variable\": \"LV\", \"value\": 0.9662289023399353}, {\"deg\": 310, \"variable\": \"LV\", \"value\": 0.9574074149131775}, {\"deg\": 315, \"variable\": \"LV\", \"value\": 0.9465997219085693}, {\"deg\": 320, \"variable\": \"LV\", \"value\": 0.9780476689338684}, {\"deg\": 325, \"variable\": \"LV\", \"value\": 0.9738805890083313}, {\"deg\": 330, \"variable\": \"LV\", \"value\": 0.9813780188560486}, {\"deg\": 335, \"variable\": \"LV\", \"value\": 0.9758139252662659}, {\"deg\": 340, \"variable\": \"LV\", \"value\": 0.9781090021133423}, {\"deg\": 345, \"variable\": \"LV\", \"value\": 0.9827666282653809}, {\"deg\": 350, \"variable\": \"LV\", \"value\": 0.9840674996376038}, {\"deg\": 355, \"variable\": \"LV\", \"value\": 0.9784442186355591}, {\"deg\": 0, \"variable\": \"LV\", \"value\": 1.0}, {\"deg\": 5, \"variable\": \"LV\", \"value\": 0.9885182976722717}, {\"deg\": 10, \"variable\": \"LV\", \"value\": 0.97921222448349}, {\"deg\": 15, \"variable\": \"LV\", \"value\": 0.9747806787490845}, {\"deg\": 20, \"variable\": \"LV\", \"value\": 0.9757975935935974}, {\"deg\": 25, \"variable\": \"LV\", \"value\": 0.9746416807174683}, {\"deg\": 30, \"variable\": \"LV\", \"value\": 0.9762824177742004}, {\"deg\": 35, \"variable\": \"LV\", \"value\": 0.9674572348594666}, {\"deg\": 40, \"variable\": \"LV\", \"value\": 0.9713340401649475}, {\"deg\": 45, \"variable\": \"LV\", \"value\": 0.9603960514068604}, {\"deg\": 50, \"variable\": \"LV\", \"value\": 0.9539473652839661}, {\"deg\": 55, \"variable\": \"LV\", \"value\": 0.9524336457252502}, {\"deg\": 60, \"variable\": \"LV\", \"value\": 0.9466666579246521}, {\"deg\": 65, \"variable\": \"LV\", \"value\": 0.9548954963684082}, {\"deg\": 70, \"variable\": \"LV\", \"value\": 0.9521715044975281}, {\"deg\": 75, \"variable\": \"LV\", \"value\": 0.9489456415176392}, {\"deg\": 80, \"variable\": \"LV\", \"value\": 0.8989023566246033}, {\"deg\": 85, \"variable\": \"LV\", \"value\": 0.85352623462677}, {\"deg\": 90, \"variable\": \"LV\", \"value\": 0.7615283131599426}, {\"deg\": 95, \"variable\": \"LV\", \"value\": 0.9045690894126892}, {\"deg\": 100, \"variable\": \"LV\", \"value\": 0.8665077686309814}, {\"deg\": 105, \"variable\": \"LV\", \"value\": 0.8585247993469238}, {\"deg\": 110, \"variable\": \"LV\", \"value\": 0.8316831588745117}, {\"deg\": 115, \"variable\": \"LV\", \"value\": 0.6661901473999023}, {\"deg\": 120, \"variable\": \"LV\", \"value\": 0.6959553956985474}, {\"deg\": 125, \"variable\": \"LV\", \"value\": 0.7425546050071716}, {\"deg\": 130, \"variable\": \"LV\", \"value\": 0.6188008785247803}, {\"deg\": 135, \"variable\": \"LV\", \"value\": 0.734143078327179}, {\"deg\": 140, \"variable\": \"LV\", \"value\": 0.7155464887619019}, {\"deg\": 145, \"variable\": \"LV\", \"value\": 0.6245408058166504}, {\"deg\": 150, \"variable\": \"LV\", \"value\": 0.737051784992218}, {\"deg\": 155, \"variable\": \"LV\", \"value\": 0.8179581761360168}, {\"deg\": 160, \"variable\": \"LV\", \"value\": 0.7617818117141724}, {\"deg\": 165, \"variable\": \"LV\", \"value\": 0.8820093274116516}, {\"deg\": 170, \"variable\": \"LV\", \"value\": 0.9125000238418579}, {\"deg\": 175, \"variable\": \"LV\", \"value\": 0.9442912340164185}, {\"deg\": 180, \"variable\": \"LV\", \"value\": 0.948647141456604}, {\"deg\": 185, \"variable\": \"LV\", \"value\": 0.9473106265068054}, {\"deg\": 190, \"variable\": \"LV\", \"value\": 0.9471365809440613}, {\"deg\": 195, \"variable\": \"LV\", \"value\": 0.9485777020454407}, {\"deg\": 200, \"variable\": \"LV\", \"value\": 0.9544706344604492}, {\"deg\": 205, \"variable\": \"LV\", \"value\": 0.9356463551521301}, {\"deg\": 210, \"variable\": \"LV\", \"value\": 0.9234234094619751}, {\"deg\": 215, \"variable\": \"LV\", \"value\": 0.9481807947158813}, {\"deg\": 220, \"variable\": \"LV\", \"value\": 0.94898521900177}, {\"deg\": 225, \"variable\": \"LV\", \"value\": 0.9541984796524048}, {\"deg\": 230, \"variable\": \"LV\", \"value\": 0.9533116221427917}, {\"deg\": 235, \"variable\": \"LV\", \"value\": 0.9527943730354309}, {\"deg\": 240, \"variable\": \"LV\", \"value\": 0.9560021758079529}, {\"deg\": 245, \"variable\": \"LV\", \"value\": 0.9517091512680054}, {\"deg\": 250, \"variable\": \"LV\", \"value\": 0.951298713684082}, {\"deg\": 255, \"variable\": \"LV\", \"value\": 0.9532099962234497}, {\"deg\": 260, \"variable\": \"LV\", \"value\": 0.9536279439926147}, {\"deg\": 265, \"variable\": \"LV\", \"value\": 0.952640175819397}, {\"deg\": 270, \"variable\": \"LV\", \"value\": 0.958949089050293}, {\"deg\": 275, \"variable\": \"LV\", \"value\": 0.9605262875556946}, {\"deg\": 280, \"variable\": \"LV\", \"value\": 0.9670329689979553}, {\"deg\": 285, \"variable\": \"LV\", \"value\": 0.971270740032196}, {\"deg\": 290, \"variable\": \"LV\", \"value\": 0.970702052116394}, {\"deg\": 295, \"variable\": \"LV\", \"value\": 0.9745011329650879}, {\"deg\": 300, \"variable\": \"LV\", \"value\": 0.971807599067688}, {\"deg\": 305, \"variable\": \"LV\", \"value\": 0.9796143174171448}, {\"deg\": 310, \"variable\": \"LV\", \"value\": 0.9758507013320923}, {\"deg\": 315, \"variable\": \"LV\", \"value\": 0.9835706353187561}, {\"deg\": 320, \"variable\": \"LV\", \"value\": 0.9830878376960754}, {\"deg\": 325, \"variable\": \"LV\", \"value\": 0.9841616749763489}, {\"deg\": 330, \"variable\": \"LV\", \"value\": 0.9813392162322998}, {\"deg\": 335, \"variable\": \"LV\", \"value\": 0.9830136895179749}, {\"deg\": 340, \"variable\": \"LV\", \"value\": 0.9792802333831787}, {\"deg\": 345, \"variable\": \"LV\", \"value\": 0.9874385595321655}, {\"deg\": 350, \"variable\": \"LV\", \"value\": 0.9847328066825867}, {\"deg\": 355, \"variable\": \"LV\", \"value\": 0.9820163249969482}, {\"deg\": 0, \"variable\": \"LV\", \"value\": 1.0}, {\"deg\": 5, \"variable\": \"LV\", \"value\": 0.9828178882598877}, {\"deg\": 10, \"variable\": \"LV\", \"value\": 0.984455943107605}, {\"deg\": 15, \"variable\": \"LV\", \"value\": 0.9801723957061768}, {\"deg\": 20, \"variable\": \"LV\", \"value\": 0.9831387996673584}, {\"deg\": 25, \"variable\": \"LV\", \"value\": 0.9801381826400757}, {\"deg\": 30, \"variable\": \"LV\", \"value\": 0.9771453142166138}, {\"deg\": 35, \"variable\": \"LV\", \"value\": 0.9784668684005737}, {\"deg\": 40, \"variable\": \"LV\", \"value\": 0.9750000238418579}, {\"deg\": 45, \"variable\": \"LV\", \"value\": 0.9776440262794495}, {\"deg\": 50, \"variable\": \"LV\", \"value\": 0.9690455794334412}, {\"deg\": 55, \"variable\": \"LV\", \"value\": 0.9584055542945862}, {\"deg\": 60, \"variable\": \"LV\", \"value\": 0.9611399173736572}, {\"deg\": 65, \"variable\": \"LV\", \"value\": 0.9613069891929626}, {\"deg\": 70, \"variable\": \"LV\", \"value\": 0.9410222768783569}, {\"deg\": 75, \"variable\": \"LV\", \"value\": 0.9570077657699585}, {\"deg\": 80, \"variable\": \"LV\", \"value\": 0.9624252915382385}, {\"deg\": 85, \"variable\": \"LV\", \"value\": 0.9218543171882629}, {\"deg\": 90, \"variable\": \"LV\", \"value\": 0.9008115530014038}, {\"deg\": 95, \"variable\": \"LV\", \"value\": 0.9364261031150818}, {\"deg\": 100, \"variable\": \"LV\", \"value\": 0.9021010398864746}, {\"deg\": 105, \"variable\": \"LV\", \"value\": 0.6169377565383911}, {\"deg\": 110, \"variable\": \"LV\", \"value\": 0.7214470505714417}, {\"deg\": 115, \"variable\": \"LV\", \"value\": 0.6056497097015381}, {\"deg\": 120, \"variable\": \"LV\", \"value\": 0.6409266591072083}, {\"deg\": 125, \"variable\": \"LV\", \"value\": 0.6114221811294556}, {\"deg\": 130, \"variable\": \"LV\", \"value\": 0.6510359644889832}, {\"deg\": 135, \"variable\": \"LV\", \"value\": 0.779041051864624}, {\"deg\": 140, \"variable\": \"LV\", \"value\": 0.7009984254837036}, {\"deg\": 145, \"variable\": \"LV\", \"value\": 0.7260624766349792}, {\"deg\": 150, \"variable\": \"LV\", \"value\": 0.768771767616272}, {\"deg\": 155, \"variable\": \"LV\", \"value\": 0.709071934223175}, {\"deg\": 160, \"variable\": \"LV\", \"value\": 0.6298952102661133}, {\"deg\": 165, \"variable\": \"LV\", \"value\": 0.569767415523529}, {\"deg\": 170, \"variable\": \"LV\", \"value\": 0.5977143049240112}, {\"deg\": 175, \"variable\": \"LV\", \"value\": 0.5675833821296692}, {\"deg\": 180, \"variable\": \"LV\", \"value\": 0.49631449580192566}, {\"deg\": 185, \"variable\": \"LV\", \"value\": 0.765914797782898}, {\"deg\": 190, \"variable\": \"LV\", \"value\": 0.6932907104492188}, {\"deg\": 195, \"variable\": \"LV\", \"value\": 0.7211238145828247}, {\"deg\": 200, \"variable\": \"LV\", \"value\": 0.6858360171318054}, {\"deg\": 205, \"variable\": \"LV\", \"value\": 0.6166854500770569}, {\"deg\": 210, \"variable\": \"LV\", \"value\": 0.6270149946212769}, {\"deg\": 215, \"variable\": \"LV\", \"value\": 0.6408839821815491}, {\"deg\": 220, \"variable\": \"LV\", \"value\": 0.5952109694480896}, {\"deg\": 225, \"variable\": \"LV\", \"value\": 0.5138291120529175}, {\"deg\": 230, \"variable\": \"LV\", \"value\": 0.5234899520874023}, {\"deg\": 235, \"variable\": \"LV\", \"value\": 0.40212342143058777}, {\"deg\": 240, \"variable\": \"LV\", \"value\": 0.3568977415561676}, {\"deg\": 245, \"variable\": \"LV\", \"value\": 0.3685300350189209}, {\"deg\": 250, \"variable\": \"LV\", \"value\": 0.45895281434059143}, {\"deg\": 255, \"variable\": \"LV\", \"value\": 0.50629723072052}, {\"deg\": 260, \"variable\": \"LV\", \"value\": 0.6711711883544922}, {\"deg\": 265, \"variable\": \"LV\", \"value\": 0.7977699041366577}, {\"deg\": 270, \"variable\": \"LV\", \"value\": 0.8633093237876892}, {\"deg\": 275, \"variable\": \"LV\", \"value\": 0.8657143115997314}, {\"deg\": 280, \"variable\": \"LV\", \"value\": 0.9345211386680603}, {\"deg\": 285, \"variable\": \"LV\", \"value\": 0.9554196000099182}, {\"deg\": 290, \"variable\": \"LV\", \"value\": 0.9620034694671631}, {\"deg\": 295, \"variable\": \"LV\", \"value\": 0.9658156633377075}, {\"deg\": 300, \"variable\": \"LV\", \"value\": 0.9641468524932861}, {\"deg\": 305, \"variable\": \"LV\", \"value\": 0.9680207371711731}, {\"deg\": 310, \"variable\": \"LV\", \"value\": 0.9680483341217041}, {\"deg\": 315, \"variable\": \"LV\", \"value\": 0.9728330969810486}, {\"deg\": 320, \"variable\": \"LV\", \"value\": 0.9740932583808899}, {\"deg\": 325, \"variable\": \"LV\", \"value\": 0.9741601943969727}, {\"deg\": 330, \"variable\": \"LV\", \"value\": 0.9801895022392273}, {\"deg\": 335, \"variable\": \"LV\", \"value\": 0.9783737063407898}, {\"deg\": 340, \"variable\": \"LV\", \"value\": 0.9857451319694519}, {\"deg\": 345, \"variable\": \"LV\", \"value\": 0.9840723276138306}, {\"deg\": 350, \"variable\": \"LV\", \"value\": 0.9831969141960144}, {\"deg\": 355, \"variable\": \"LV\", \"value\": 0.9853574633598328}, {\"deg\": 0, \"variable\": \"MY\", \"value\": 1.0}, {\"deg\": 5, \"variable\": \"MY\", \"value\": 0.9545454382896423}, {\"deg\": 10, \"variable\": \"MY\", \"value\": 0.9444798827171326}, {\"deg\": 15, \"variable\": \"MY\", \"value\": 0.9354632496833801}, {\"deg\": 20, \"variable\": \"MY\", \"value\": 0.9417721629142761}, {\"deg\": 25, \"variable\": \"MY\", \"value\": 0.9363057613372803}, {\"deg\": 30, \"variable\": \"MY\", \"value\": 0.9358974099159241}, {\"deg\": 35, \"variable\": \"MY\", \"value\": 0.9403553009033203}, {\"deg\": 40, \"variable\": \"MY\", \"value\": 0.9174425601959229}, {\"deg\": 45, \"variable\": \"MY\", \"value\": 0.9142141342163086}, {\"deg\": 50, \"variable\": \"MY\", \"value\": 0.9033063054084778}, {\"deg\": 55, \"variable\": \"MY\", \"value\": 0.8769230842590332}, {\"deg\": 60, \"variable\": \"MY\", \"value\": 0.8583043217658997}, {\"deg\": 65, \"variable\": \"MY\", \"value\": 0.8162776827812195}, {\"deg\": 70, \"variable\": \"MY\", \"value\": 0.8730649948120117}, {\"deg\": 75, \"variable\": \"MY\", \"value\": 0.8916256427764893}, {\"deg\": 80, \"variable\": \"MY\", \"value\": 0.8611968159675598}, {\"deg\": 85, \"variable\": \"MY\", \"value\": 0.8763505220413208}, {\"deg\": 90, \"variable\": \"MY\", \"value\": 0.8645002841949463}, {\"deg\": 95, \"variable\": \"MY\", \"value\": 0.8597122430801392}, {\"deg\": 100, \"variable\": \"MY\", \"value\": 0.8533333539962769}, {\"deg\": 105, \"variable\": \"MY\", \"value\": 0.8306551575660706}, {\"deg\": 110, \"variable\": \"MY\", \"value\": 0.8180708289146423}, {\"deg\": 115, \"variable\": \"MY\", \"value\": 0.8095238208770752}, {\"deg\": 120, \"variable\": \"MY\", \"value\": 0.7975155115127563}, {\"deg\": 125, \"variable\": \"MY\", \"value\": 0.7719974517822266}, {\"deg\": 130, \"variable\": \"MY\", \"value\": 0.6896977424621582}, {\"deg\": 135, \"variable\": \"MY\", \"value\": 0.7033374309539795}, {\"deg\": 140, \"variable\": \"MY\", \"value\": 0.6557610034942627}, {\"deg\": 145, \"variable\": \"MY\", \"value\": 0.6797752976417542}, {\"deg\": 150, \"variable\": \"MY\", \"value\": 0.6899999976158142}, {\"deg\": 155, \"variable\": \"MY\", \"value\": 0.6393188834190369}, {\"deg\": 160, \"variable\": \"MY\", \"value\": 0.3981042802333832}, {\"deg\": 165, \"variable\": \"MY\", \"value\": 0.4141048789024353}, {\"deg\": 170, \"variable\": \"MY\", \"value\": 0.49706128239631653}, {\"deg\": 175, \"variable\": \"MY\", \"value\": 0.5523964166641235}, {\"deg\": 180, \"variable\": \"MY\", \"value\": 0.4855195879936218}, {\"deg\": 185, \"variable\": \"MY\", \"value\": 0.46937015652656555}, {\"deg\": 190, \"variable\": \"MY\", \"value\": 0.597842812538147}, {\"deg\": 195, \"variable\": \"MY\", \"value\": 0.5221088528633118}, {\"deg\": 200, \"variable\": \"MY\", \"value\": 0.44364291429519653}, {\"deg\": 205, \"variable\": \"MY\", \"value\": 0.517212450504303}, {\"deg\": 210, \"variable\": \"MY\", \"value\": 0.5073593258857727}, {\"deg\": 215, \"variable\": \"MY\", \"value\": 0.5107480883598328}, {\"deg\": 220, \"variable\": \"MY\", \"value\": 0.5038039088249207}, {\"deg\": 225, \"variable\": \"MY\", \"value\": 0.4961240291595459}, {\"deg\": 230, \"variable\": \"MY\", \"value\": 0.5068259239196777}, {\"deg\": 235, \"variable\": \"MY\", \"value\": 0.5115170478820801}, {\"deg\": 240, \"variable\": \"MY\", \"value\": 0.5075987577438354}, {\"deg\": 245, \"variable\": \"MY\", \"value\": 0.5038402676582336}, {\"deg\": 250, \"variable\": \"MY\", \"value\": 0.6386430859565735}, {\"deg\": 255, \"variable\": \"MY\", \"value\": 0.6401202082633972}, {\"deg\": 260, \"variable\": \"MY\", \"value\": 0.6876371502876282}, {\"deg\": 265, \"variable\": \"MY\", \"value\": 0.6923626065254211}, {\"deg\": 270, \"variable\": \"MY\", \"value\": 0.8162197470664978}, {\"deg\": 275, \"variable\": \"MY\", \"value\": 0.7846255898475647}, {\"deg\": 280, \"variable\": \"MY\", \"value\": 0.8429751992225647}, {\"deg\": 285, \"variable\": \"MY\", \"value\": 0.8376830220222473}, {\"deg\": 290, \"variable\": \"MY\", \"value\": 0.8580362796783447}, {\"deg\": 295, \"variable\": \"MY\", \"value\": 0.8712871074676514}, {\"deg\": 300, \"variable\": \"MY\", \"value\": 0.8822085857391357}, {\"deg\": 305, \"variable\": \"MY\", \"value\": 0.8904024958610535}, {\"deg\": 310, \"variable\": \"MY\", \"value\": 0.8461088538169861}, {\"deg\": 315, \"variable\": \"MY\", \"value\": 0.8603417873382568}, {\"deg\": 320, \"variable\": \"MY\", \"value\": 0.9047326445579529}, {\"deg\": 325, \"variable\": \"MY\", \"value\": 0.9153798818588257}, {\"deg\": 330, \"variable\": \"MY\", \"value\": 0.9310130476951599}, {\"deg\": 335, \"variable\": \"MY\", \"value\": 0.9235588908195496}, {\"deg\": 340, \"variable\": \"MY\", \"value\": 0.9294710159301758}, {\"deg\": 345, \"variable\": \"MY\", \"value\": 0.9439899325370789}, {\"deg\": 350, \"variable\": \"MY\", \"value\": 0.9477707147598267}, {\"deg\": 355, \"variable\": \"MY\", \"value\": 0.9420654773712158}, {\"deg\": 0, \"variable\": \"MY\", \"value\": 1.0}, {\"deg\": 5, \"variable\": \"MY\", \"value\": 0.9356846213340759}, {\"deg\": 10, \"variable\": \"MY\", \"value\": 0.9199178814888}, {\"deg\": 15, \"variable\": \"MY\", \"value\": 0.9077720046043396}, {\"deg\": 20, \"variable\": \"MY\", \"value\": 0.9177939891815186}, {\"deg\": 25, \"variable\": \"MY\", \"value\": 0.9003083109855652}, {\"deg\": 30, \"variable\": \"MY\", \"value\": 0.8970438241958618}, {\"deg\": 35, \"variable\": \"MY\", \"value\": 0.8742514848709106}, {\"deg\": 40, \"variable\": \"MY\", \"value\": 0.8643724918365479}, {\"deg\": 45, \"variable\": \"MY\", \"value\": 0.7991760969161987}, {\"deg\": 50, \"variable\": \"MY\", \"value\": 0.7722342610359192}, {\"deg\": 55, \"variable\": \"MY\", \"value\": 0.7508090734481812}, {\"deg\": 60, \"variable\": \"MY\", \"value\": 0.7101123332977295}, {\"deg\": 65, \"variable\": \"MY\", \"value\": 0.7519466280937195}, {\"deg\": 70, \"variable\": \"MY\", \"value\": 0.730088472366333}, {\"deg\": 75, \"variable\": \"MY\", \"value\": 0.7101123332977295}, {\"deg\": 80, \"variable\": \"MY\", \"value\": 0.617157518863678}, {\"deg\": 85, \"variable\": \"MY\", \"value\": 0.570652186870575}, {\"deg\": 90, \"variable\": \"MY\", \"value\": 0.5481049418449402}, {\"deg\": 95, \"variable\": \"MY\", \"value\": 0.6658565998077393}, {\"deg\": 100, \"variable\": \"MY\", \"value\": 0.5768194198608398}, {\"deg\": 105, \"variable\": \"MY\", \"value\": 0.5737704634666443}, {\"deg\": 110, \"variable\": \"MY\", \"value\": 0.5452016592025757}, {\"deg\": 115, \"variable\": \"MY\", \"value\": 0.453987717628479}, {\"deg\": 120, \"variable\": \"MY\", \"value\": 0.5207439064979553}, {\"deg\": 125, \"variable\": \"MY\", \"value\": 0.5365168452262878}, {\"deg\": 130, \"variable\": \"MY\", \"value\": 0.45990923047065735}, {\"deg\": 135, \"variable\": \"MY\", \"value\": 0.529160737991333}, {\"deg\": 140, \"variable\": \"MY\", \"value\": 0.4977908730506897}, {\"deg\": 145, \"variable\": \"MY\", \"value\": 0.43865031003952026}, {\"deg\": 150, \"variable\": \"MY\", \"value\": 0.5464333891868591}, {\"deg\": 155, \"variable\": \"MY\", \"value\": 0.5555555820465088}, {\"deg\": 160, \"variable\": \"MY\", \"value\": 0.5370370149612427}, {\"deg\": 165, \"variable\": \"MY\", \"value\": 0.5493133664131165}, {\"deg\": 170, \"variable\": \"MY\", \"value\": 0.5644769072532654}, {\"deg\": 175, \"variable\": \"MY\", \"value\": 0.5866050720214844}, {\"deg\": 180, \"variable\": \"MY\", \"value\": 0.640625}, {\"deg\": 185, \"variable\": \"MY\", \"value\": 0.6393972039222717}, {\"deg\": 190, \"variable\": \"MY\", \"value\": 0.6382978558540344}, {\"deg\": 195, \"variable\": \"MY\", \"value\": 0.7265468835830688}, {\"deg\": 200, \"variable\": \"MY\", \"value\": 0.7497466802597046}, {\"deg\": 205, \"variable\": \"MY\", \"value\": 0.6852248311042786}, {\"deg\": 210, \"variable\": \"MY\", \"value\": 0.6255605220794678}, {\"deg\": 215, \"variable\": \"MY\", \"value\": 0.7063829898834229}, {\"deg\": 220, \"variable\": \"MY\", \"value\": 0.721276581287384}, {\"deg\": 225, \"variable\": \"MY\", \"value\": 0.7719298005104065}, {\"deg\": 230, \"variable\": \"MY\", \"value\": 0.7724974751472473}, {\"deg\": 235, \"variable\": \"MY\", \"value\": 0.77823406457901}, {\"deg\": 240, \"variable\": \"MY\", \"value\": 0.772819459438324}, {\"deg\": 245, \"variable\": \"MY\", \"value\": 0.7853610515594482}, {\"deg\": 250, \"variable\": \"MY\", \"value\": 0.7988165616989136}, {\"deg\": 255, \"variable\": \"MY\", \"value\": 0.8090550899505615}, {\"deg\": 260, \"variable\": \"MY\", \"value\": 0.8277227878570557}, {\"deg\": 265, \"variable\": \"MY\", \"value\": 0.8240000009536743}, {\"deg\": 270, \"variable\": \"MY\", \"value\": 0.8449848294258118}, {\"deg\": 275, \"variable\": \"MY\", \"value\": 0.8420019745826721}, {\"deg\": 280, \"variable\": \"MY\", \"value\": 0.8582834601402283}, {\"deg\": 285, \"variable\": \"MY\", \"value\": 0.8648648858070374}, {\"deg\": 290, \"variable\": \"MY\", \"value\": 0.8660624623298645}, {\"deg\": 295, \"variable\": \"MY\", \"value\": 0.8833499550819397}, {\"deg\": 300, \"variable\": \"MY\", \"value\": 0.8815920352935791}, {\"deg\": 305, \"variable\": \"MY\", \"value\": 0.9029029011726379}, {\"deg\": 310, \"variable\": \"MY\", \"value\": 0.8989899158477783}, {\"deg\": 315, \"variable\": \"MY\", \"value\": 0.9109519124031067}, {\"deg\": 320, \"variable\": \"MY\", \"value\": 0.9133192300796509}, {\"deg\": 325, \"variable\": \"MY\", \"value\": 0.9034994840621948}, {\"deg\": 330, \"variable\": \"MY\", \"value\": 0.910620391368866}, {\"deg\": 335, \"variable\": \"MY\", \"value\": 0.9172775149345398}, {\"deg\": 340, \"variable\": \"MY\", \"value\": 0.918861985206604}, {\"deg\": 345, \"variable\": \"MY\", \"value\": 0.9359915852546692}, {\"deg\": 350, \"variable\": \"MY\", \"value\": 0.9319371581077576}, {\"deg\": 355, \"variable\": \"MY\", \"value\": 0.9250264167785645}, {\"deg\": 0, \"variable\": \"MY\", \"value\": 1.0}, {\"deg\": 5, \"variable\": \"MY\", \"value\": 0.9452137351036072}, {\"deg\": 10, \"variable\": \"MY\", \"value\": 0.9433512091636658}, {\"deg\": 15, \"variable\": \"MY\", \"value\": 0.9336521029472351}, {\"deg\": 20, \"variable\": \"MY\", \"value\": 0.9241622686386108}, {\"deg\": 25, \"variable\": \"MY\", \"value\": 0.9130691885948181}, {\"deg\": 30, \"variable\": \"MY\", \"value\": 0.9025821685791016}, {\"deg\": 35, \"variable\": \"MY\", \"value\": 0.8767455816268921}, {\"deg\": 40, \"variable\": \"MY\", \"value\": 0.8480392098426819}, {\"deg\": 45, \"variable\": \"MY\", \"value\": 0.8431494235992432}, {\"deg\": 50, \"variable\": \"MY\", \"value\": 0.8133912086486816}, {\"deg\": 55, \"variable\": \"MY\", \"value\": 0.7291242480278015}, {\"deg\": 60, \"variable\": \"MY\", \"value\": 0.7253044843673706}, {\"deg\": 65, \"variable\": \"MY\", \"value\": 0.7324503064155579}, {\"deg\": 70, \"variable\": \"MY\", \"value\": 0.6994459629058838}, {\"deg\": 75, \"variable\": \"MY\", \"value\": 0.714767336845398}, {\"deg\": 80, \"variable\": \"MY\", \"value\": 0.7480519413948059}, {\"deg\": 85, \"variable\": \"MY\", \"value\": 0.7371922731399536}, {\"deg\": 90, \"variable\": \"MY\", \"value\": 0.7060458660125732}, {\"deg\": 95, \"variable\": \"MY\", \"value\": 0.7331536412239075}, {\"deg\": 100, \"variable\": \"MY\", \"value\": 0.6726893782615662}, {\"deg\": 105, \"variable\": \"MY\", \"value\": 0.5203915238380432}, {\"deg\": 110, \"variable\": \"MY\", \"value\": 0.5864432454109192}, {\"deg\": 115, \"variable\": \"MY\", \"value\": 0.5669782161712646}, {\"deg\": 120, \"variable\": \"MY\", \"value\": 0.584662139415741}, {\"deg\": 125, \"variable\": \"MY\", \"value\": 0.5286624431610107}, {\"deg\": 130, \"variable\": \"MY\", \"value\": 0.5391169786453247}, {\"deg\": 135, \"variable\": \"MY\", \"value\": 0.5675675868988037}, {\"deg\": 140, \"variable\": \"MY\", \"value\": 0.5363636612892151}, {\"deg\": 145, \"variable\": \"MY\", \"value\": 0.553318440914154}, {\"deg\": 150, \"variable\": \"MY\", \"value\": 0.5583524107933044}, {\"deg\": 155, \"variable\": \"MY\", \"value\": 0.5108086466789246}, {\"deg\": 160, \"variable\": \"MY\", \"value\": 0.5082612037658691}, {\"deg\": 165, \"variable\": \"MY\", \"value\": 0.4960629940032959}, {\"deg\": 170, \"variable\": \"MY\", \"value\": 0.503164529800415}, {\"deg\": 175, \"variable\": \"MY\", \"value\": 0.4992101192474365}, {\"deg\": 180, \"variable\": \"MY\", \"value\": 0.5016025900840759}, {\"deg\": 185, \"variable\": \"MY\", \"value\": 0.5744203329086304}, {\"deg\": 190, \"variable\": \"MY\", \"value\": 0.5497702956199646}, {\"deg\": 195, \"variable\": \"MY\", \"value\": 0.5476922988891602}, {\"deg\": 200, \"variable\": \"MY\", \"value\": 0.5454545617103577}, {\"deg\": 205, \"variable\": \"MY\", \"value\": 0.5468873381614685}, {\"deg\": 210, \"variable\": \"MY\", \"value\": 0.5274026989936829}, {\"deg\": 215, \"variable\": \"MY\", \"value\": 0.5225653052330017}, {\"deg\": 220, \"variable\": \"MY\", \"value\": 0.5117408633232117}, {\"deg\": 225, \"variable\": \"MY\", \"value\": 0.4662044942378998}, {\"deg\": 230, \"variable\": \"MY\", \"value\": 0.4893435537815094}, {\"deg\": 235, \"variable\": \"MY\", \"value\": 0.48076921701431274}, {\"deg\": 240, \"variable\": \"MY\", \"value\": 0.454627126455307}, {\"deg\": 245, \"variable\": \"MY\", \"value\": 0.4396396279335022}, {\"deg\": 250, \"variable\": \"MY\", \"value\": 0.5383333563804626}, {\"deg\": 255, \"variable\": \"MY\", \"value\": 0.529163122177124}, {\"deg\": 260, \"variable\": \"MY\", \"value\": 0.5824782848358154}, {\"deg\": 265, \"variable\": \"MY\", \"value\": 0.6320541501045227}, {\"deg\": 270, \"variable\": \"MY\", \"value\": 0.664270281791687}, {\"deg\": 275, \"variable\": \"MY\", \"value\": 0.6441176533699036}, {\"deg\": 280, \"variable\": \"MY\", \"value\": 0.6849894523620605}, {\"deg\": 285, \"variable\": \"MY\", \"value\": 0.7252897024154663}, {\"deg\": 290, \"variable\": \"MY\", \"value\": 0.8156711459159851}, {\"deg\": 295, \"variable\": \"MY\", \"value\": 0.8322824835777283}, {\"deg\": 300, \"variable\": \"MY\", \"value\": 0.8740831017494202}, {\"deg\": 305, \"variable\": \"MY\", \"value\": 0.8799999952316284}, {\"deg\": 310, \"variable\": \"MY\", \"value\": 0.8948625922203064}, {\"deg\": 315, \"variable\": \"MY\", \"value\": 0.9086567163467407}, {\"deg\": 320, \"variable\": \"MY\", \"value\": 0.9122596383094788}, {\"deg\": 325, \"variable\": \"MY\", \"value\": 0.9173652529716492}, {\"deg\": 330, \"variable\": \"MY\", \"value\": 0.9305136203765869}, {\"deg\": 335, \"variable\": \"MY\", \"value\": 0.9318181872367859}, {\"deg\": 340, \"variable\": \"MY\", \"value\": 0.9421586394309998}, {\"deg\": 345, \"variable\": \"MY\", \"value\": 0.9389728307723999}, {\"deg\": 350, \"variable\": \"MY\", \"value\": 0.9479418992996216}, {\"deg\": 355, \"variable\": \"MY\", \"value\": 0.946601927280426}, {\"deg\": 0, \"variable\": \"RV\", \"value\": 1.0}, {\"deg\": 5, \"variable\": \"RV\", \"value\": 0.9433428049087524}, {\"deg\": 10, \"variable\": \"RV\", \"value\": 0.941428542137146}, {\"deg\": 15, \"variable\": \"RV\", \"value\": 0.9255242347717285}, {\"deg\": 20, \"variable\": \"RV\", \"value\": 0.9142012000083923}, {\"deg\": 25, \"variable\": \"RV\", \"value\": 0.9223021864891052}, {\"deg\": 30, \"variable\": \"RV\", \"value\": 0.8949704170227051}, {\"deg\": 35, \"variable\": \"RV\", \"value\": 0.8994169235229492}, {\"deg\": 40, \"variable\": \"RV\", \"value\": 0.8802974224090576}, {\"deg\": 45, \"variable\": \"RV\", \"value\": 0.8533950448036194}, {\"deg\": 50, \"variable\": \"RV\", \"value\": 0.8553940057754517}, {\"deg\": 55, \"variable\": \"RV\", \"value\": 0.6848112344741821}, {\"deg\": 60, \"variable\": \"RV\", \"value\": 0.6267361044883728}, {\"deg\": 65, \"variable\": \"RV\", \"value\": 0.3322632312774658}, {\"deg\": 70, \"variable\": \"RV\", \"value\": 0.21329821646213531}, {\"deg\": 75, \"variable\": \"RV\", \"value\": 0.16015131771564484}, {\"deg\": 80, \"variable\": \"RV\", \"value\": 0.1458333283662796}, {\"deg\": 85, \"variable\": \"RV\", \"value\": 0.16296295821666718}, {\"deg\": 90, \"variable\": \"RV\", \"value\": 0.13922518491744995}, {\"deg\": 95, \"variable\": \"RV\", \"value\": 0.1569506675004959}, {\"deg\": 100, \"variable\": \"RV\", \"value\": 0.11015912145376205}, {\"deg\": 105, \"variable\": \"RV\", \"value\": 0.11237458139657974}, {\"deg\": 110, \"variable\": \"RV\", \"value\": 0.12290503084659576}, {\"deg\": 115, \"variable\": \"RV\", \"value\": 0.04492512345314026}, {\"deg\": 120, \"variable\": \"RV\", \"value\": 0.041198503226041794}, {\"deg\": 125, \"variable\": \"RV\", \"value\": 0.0}, {\"deg\": 130, \"variable\": \"RV\", \"value\": 0.0}, {\"deg\": 135, \"variable\": \"RV\", \"value\": 0.0}, {\"deg\": 140, \"variable\": \"RV\", \"value\": 0.0}, {\"deg\": 145, \"variable\": \"RV\", \"value\": 0.0}, {\"deg\": 150, \"variable\": \"RV\", \"value\": 0.0}, {\"deg\": 155, \"variable\": \"RV\", \"value\": 0.0}, {\"deg\": 160, \"variable\": \"RV\", \"value\": 0.0}, {\"deg\": 165, \"variable\": \"RV\", \"value\": 0.0}, {\"deg\": 170, \"variable\": \"RV\", \"value\": 0.0}, {\"deg\": 175, \"variable\": \"RV\", \"value\": 0.0}, {\"deg\": 180, \"variable\": \"RV\", \"value\": 0.0}, {\"deg\": 185, \"variable\": \"RV\", \"value\": 0.0}, {\"deg\": 190, \"variable\": \"RV\", \"value\": 0.0}, {\"deg\": 195, \"variable\": \"RV\", \"value\": 0.0}, {\"deg\": 200, \"variable\": \"RV\", \"value\": 0.0}, {\"deg\": 205, \"variable\": \"RV\", \"value\": 0.0}, {\"deg\": 210, \"variable\": \"RV\", \"value\": 0.0}, {\"deg\": 215, \"variable\": \"RV\", \"value\": 0.0}, {\"deg\": 220, \"variable\": \"RV\", \"value\": 0.0}, {\"deg\": 225, \"variable\": \"RV\", \"value\": 0.0}, {\"deg\": 230, \"variable\": \"RV\", \"value\": 0.0}, {\"deg\": 235, \"variable\": \"RV\", \"value\": 0.0}, {\"deg\": 240, \"variable\": \"RV\", \"value\": 0.0}, {\"deg\": 245, \"variable\": \"RV\", \"value\": 0.002728512976318598}, {\"deg\": 250, \"variable\": \"RV\", \"value\": 0.0}, {\"deg\": 255, \"variable\": \"RV\", \"value\": 0.1743462085723877}, {\"deg\": 260, \"variable\": \"RV\", \"value\": 0.6145145893096924}, {\"deg\": 265, \"variable\": \"RV\", \"value\": 0.764174222946167}, {\"deg\": 270, \"variable\": \"RV\", \"value\": 0.874452531337738}, {\"deg\": 275, \"variable\": \"RV\", \"value\": 0.8911466002464294}, {\"deg\": 280, \"variable\": \"RV\", \"value\": 0.8965024948120117}, {\"deg\": 285, \"variable\": \"RV\", \"value\": 0.8976035118103027}, {\"deg\": 290, \"variable\": \"RV\", \"value\": 0.9132290482521057}, {\"deg\": 295, \"variable\": \"RV\", \"value\": 0.9149392247200012}, {\"deg\": 300, \"variable\": \"RV\", \"value\": 0.9193083643913269}, {\"deg\": 305, \"variable\": \"RV\", \"value\": 0.9224433898925781}, {\"deg\": 310, \"variable\": \"RV\", \"value\": 0.9361997246742249}, {\"deg\": 315, \"variable\": \"RV\", \"value\": 0.9401829838752747}, {\"deg\": 320, \"variable\": \"RV\", \"value\": 0.9265536665916443}, {\"deg\": 325, \"variable\": \"RV\", \"value\": 0.9382022619247437}, {\"deg\": 330, \"variable\": \"RV\", \"value\": 0.9506173133850098}, {\"deg\": 335, \"variable\": \"RV\", \"value\": 0.9467939734458923}, {\"deg\": 340, \"variable\": \"RV\", \"value\": 0.950441300868988}, {\"deg\": 345, \"variable\": \"RV\", \"value\": 0.9589603543281555}, {\"deg\": 350, \"variable\": \"RV\", \"value\": 0.9647218585014343}, {\"deg\": 355, \"variable\": \"RV\", \"value\": 0.9516574740409851}, {\"deg\": 0, \"variable\": \"RV\", \"value\": 1.0}, {\"deg\": 5, \"variable\": \"RV\", \"value\": 0.9791595339775085}, {\"deg\": 10, \"variable\": \"RV\", \"value\": 0.9682702422142029}, {\"deg\": 15, \"variable\": \"RV\", \"value\": 0.9740082025527954}, {\"deg\": 20, \"variable\": \"RV\", \"value\": 0.9568572640419006}, {\"deg\": 25, \"variable\": \"RV\", \"value\": 0.9293146729469299}, {\"deg\": 30, \"variable\": \"RV\", \"value\": 0.9063643217086792}, {\"deg\": 35, \"variable\": \"RV\", \"value\": 0.8425565361976624}, {\"deg\": 40, \"variable\": \"RV\", \"value\": 0.8086124658584595}, {\"deg\": 45, \"variable\": \"RV\", \"value\": 0.5517241358757019}, {\"deg\": 50, \"variable\": \"RV\", \"value\": 0.18057285249233246}, {\"deg\": 55, \"variable\": \"RV\", \"value\": 0.02569303661584854}, {\"deg\": 60, \"variable\": \"RV\", \"value\": 0.004081632476300001}, {\"deg\": 65, \"variable\": \"RV\", \"value\": 0.004109588917344809}, {\"deg\": 70, \"variable\": \"RV\", \"value\": 0.005483207758516073}, {\"deg\": 75, \"variable\": \"RV\", \"value\": 0.0}, {\"deg\": 80, \"variable\": \"RV\", \"value\": 0.0}, {\"deg\": 85, \"variable\": \"RV\", \"value\": 0.0}, {\"deg\": 90, \"variable\": \"RV\", \"value\": 0.0}, {\"deg\": 95, \"variable\": \"RV\", \"value\": 0.0}, {\"deg\": 100, \"variable\": \"RV\", \"value\": 0.0}, {\"deg\": 105, \"variable\": \"RV\", \"value\": 0.0}, {\"deg\": 110, \"variable\": \"RV\", \"value\": 0.0}, {\"deg\": 115, \"variable\": \"RV\", \"value\": 0.0}, {\"deg\": 120, \"variable\": \"RV\", \"value\": 0.0}, {\"deg\": 125, \"variable\": \"RV\", \"value\": 0.0}, {\"deg\": 130, \"variable\": \"RV\", \"value\": 0.0}, {\"deg\": 135, \"variable\": \"RV\", \"value\": 0.0}, {\"deg\": 140, \"variable\": \"RV\", \"value\": 0.0}, {\"deg\": 145, \"variable\": \"RV\", \"value\": 0.0}, {\"deg\": 150, \"variable\": \"RV\", \"value\": 0.0}, {\"deg\": 155, \"variable\": \"RV\", \"value\": 0.0}, {\"deg\": 160, \"variable\": \"RV\", \"value\": 0.0}, {\"deg\": 165, \"variable\": \"RV\", \"value\": 0.0}, {\"deg\": 170, \"variable\": \"RV\", \"value\": 0.0}, {\"deg\": 175, \"variable\": \"RV\", \"value\": 0.0}, {\"deg\": 180, \"variable\": \"RV\", \"value\": 0.0}, {\"deg\": 185, \"variable\": \"RV\", \"value\": 0.0}, {\"deg\": 190, \"variable\": \"RV\", \"value\": 0.0}, {\"deg\": 195, \"variable\": \"RV\", \"value\": 0.0}, {\"deg\": 200, \"variable\": \"RV\", \"value\": 0.0}, {\"deg\": 205, \"variable\": \"RV\", \"value\": 0.0}, {\"deg\": 210, \"variable\": \"RV\", \"value\": 0.0}, {\"deg\": 215, \"variable\": \"RV\", \"value\": 0.0}, {\"deg\": 220, \"variable\": \"RV\", \"value\": 0.0}, {\"deg\": 225, \"variable\": \"RV\", \"value\": 0.0}, {\"deg\": 230, \"variable\": \"RV\", \"value\": 0.0}, {\"deg\": 235, \"variable\": \"RV\", \"value\": 0.0}, {\"deg\": 240, \"variable\": \"RV\", \"value\": 0.002728512976318598}, {\"deg\": 245, \"variable\": \"RV\", \"value\": 0.1005154624581337}, {\"deg\": 250, \"variable\": \"RV\", \"value\": 0.5208131670951843}, {\"deg\": 255, \"variable\": \"RV\", \"value\": 0.6866416931152344}, {\"deg\": 260, \"variable\": \"RV\", \"value\": 0.8494065403938293}, {\"deg\": 265, \"variable\": \"RV\", \"value\": 0.869981586933136}, {\"deg\": 270, \"variable\": \"RV\", \"value\": 0.8954322338104248}, {\"deg\": 275, \"variable\": \"RV\", \"value\": 0.9097446799278259}, {\"deg\": 280, \"variable\": \"RV\", \"value\": 0.9251317977905273}, {\"deg\": 285, \"variable\": \"RV\", \"value\": 0.9371469020843506}, {\"deg\": 290, \"variable\": \"RV\", \"value\": 0.9387186765670776}, {\"deg\": 295, \"variable\": \"RV\", \"value\": 0.9357861876487732}, {\"deg\": 300, \"variable\": \"RV\", \"value\": 0.9402362704277039}, {\"deg\": 305, \"variable\": \"RV\", \"value\": 0.9462290406227112}, {\"deg\": 310, \"variable\": \"RV\", \"value\": 0.9469302892684937}, {\"deg\": 315, \"variable\": \"RV\", \"value\": 0.9385903477668762}, {\"deg\": 320, \"variable\": \"RV\", \"value\": 0.9594689011573792}, {\"deg\": 325, \"variable\": \"RV\", \"value\": 0.9546573162078857}, {\"deg\": 330, \"variable\": \"RV\", \"value\": 0.9602787494659424}, {\"deg\": 335, \"variable\": \"RV\", \"value\": 0.9624739289283752}, {\"deg\": 340, \"variable\": \"RV\", \"value\": 0.9707400798797607}, {\"deg\": 345, \"variable\": \"RV\", \"value\": 0.9750256538391113}, {\"deg\": 350, \"variable\": \"RV\", \"value\": 0.9777929782867432}, {\"deg\": 355, \"variable\": \"RV\", \"value\": 0.9816799163818359}, {\"deg\": 0, \"variable\": \"RV\", \"value\": 1.0}, {\"deg\": 5, \"variable\": \"RV\", \"value\": 0.9813936352729797}, {\"deg\": 10, \"variable\": \"RV\", \"value\": 0.978661835193634}, {\"deg\": 15, \"variable\": \"RV\", \"value\": 0.9725235104560852}, {\"deg\": 20, \"variable\": \"RV\", \"value\": 0.9689440727233887}, {\"deg\": 25, \"variable\": \"RV\", \"value\": 0.9647495150566101}, {\"deg\": 30, \"variable\": \"RV\", \"value\": 0.9468085169792175}, {\"deg\": 35, \"variable\": \"RV\", \"value\": 0.8623248338699341}, {\"deg\": 40, \"variable\": \"RV\", \"value\": 0.7158089876174927}, {\"deg\": 45, \"variable\": \"RV\", \"value\": 0.4426787793636322}, {\"deg\": 50, \"variable\": \"RV\", \"value\": 0.13125845789909363}, {\"deg\": 55, \"variable\": \"RV\", \"value\": 0.001459853956475854}, {\"deg\": 60, \"variable\": \"RV\", \"value\": 0.0}, {\"deg\": 65, \"variable\": \"RV\", \"value\": 0.0014534883666783571}, {\"deg\": 70, \"variable\": \"RV\", \"value\": 0.0}, {\"deg\": 75, \"variable\": \"RV\", \"value\": 0.0}, {\"deg\": 80, \"variable\": \"RV\", \"value\": 0.0}, {\"deg\": 85, \"variable\": \"RV\", \"value\": 0.0}, {\"deg\": 90, \"variable\": \"RV\", \"value\": 0.0}, {\"deg\": 95, \"variable\": \"RV\", \"value\": 0.0}, {\"deg\": 100, \"variable\": \"RV\", \"value\": 0.0}, {\"deg\": 105, \"variable\": \"RV\", \"value\": 0.0}, {\"deg\": 110, \"variable\": \"RV\", \"value\": 0.0}, {\"deg\": 115, \"variable\": \"RV\", \"value\": 0.0}, {\"deg\": 120, \"variable\": \"RV\", \"value\": 0.0}, {\"deg\": 125, \"variable\": \"RV\", \"value\": 0.0}, {\"deg\": 130, \"variable\": \"RV\", \"value\": 0.0}, {\"deg\": 135, \"variable\": \"RV\", \"value\": 0.0}, {\"deg\": 140, \"variable\": \"RV\", \"value\": 0.0}, {\"deg\": 145, \"variable\": \"RV\", \"value\": 0.0}, {\"deg\": 150, \"variable\": \"RV\", \"value\": 0.0}, {\"deg\": 155, \"variable\": \"RV\", \"value\": 0.0}, {\"deg\": 160, \"variable\": \"RV\", \"value\": 0.0}, {\"deg\": 165, \"variable\": \"RV\", \"value\": 0.0}, {\"deg\": 170, \"variable\": \"RV\", \"value\": 0.0}, {\"deg\": 175, \"variable\": \"RV\", \"value\": 0.0}, {\"deg\": 180, \"variable\": \"RV\", \"value\": 0.0}, {\"deg\": 185, \"variable\": \"RV\", \"value\": 0.0}, {\"deg\": 190, \"variable\": \"RV\", \"value\": 0.0}, {\"deg\": 195, \"variable\": \"RV\", \"value\": 0.0}, {\"deg\": 200, \"variable\": \"RV\", \"value\": 0.0}, {\"deg\": 205, \"variable\": \"RV\", \"value\": 0.0}, {\"deg\": 210, \"variable\": \"RV\", \"value\": 0.0}, {\"deg\": 215, \"variable\": \"RV\", \"value\": 0.0}, {\"deg\": 220, \"variable\": \"RV\", \"value\": 0.0}, {\"deg\": 225, \"variable\": \"RV\", \"value\": 0.0}, {\"deg\": 230, \"variable\": \"RV\", \"value\": 0.0}, {\"deg\": 235, \"variable\": \"RV\", \"value\": 0.005826657172292471}, {\"deg\": 240, \"variable\": \"RV\", \"value\": 0.09046624600887299}, {\"deg\": 245, \"variable\": \"RV\", \"value\": 0.24487179517745972}, {\"deg\": 250, \"variable\": \"RV\", \"value\": 0.3459915518760681}, {\"deg\": 255, \"variable\": \"RV\", \"value\": 0.4886927604675293}, {\"deg\": 260, \"variable\": \"RV\", \"value\": 0.5887802243232727}, {\"deg\": 265, \"variable\": \"RV\", \"value\": 0.8315262794494629}, {\"deg\": 270, \"variable\": \"RV\", \"value\": 0.926153838634491}, {\"deg\": 275, \"variable\": \"RV\", \"value\": 0.9194865822792053}, {\"deg\": 280, \"variable\": \"RV\", \"value\": 0.9327146410942078}, {\"deg\": 285, \"variable\": \"RV\", \"value\": 0.9237353801727295}, {\"deg\": 290, \"variable\": \"RV\", \"value\": 0.9361047148704529}, {\"deg\": 295, \"variable\": \"RV\", \"value\": 0.934368908405304}, {\"deg\": 300, \"variable\": \"RV\", \"value\": 0.9403213262557983}, {\"deg\": 305, \"variable\": \"RV\", \"value\": 0.9443597793579102}, {\"deg\": 310, \"variable\": \"RV\", \"value\": 0.9503600001335144}, {\"deg\": 315, \"variable\": \"RV\", \"value\": 0.9577995538711548}, {\"deg\": 320, \"variable\": \"RV\", \"value\": 0.9586899876594543}, {\"deg\": 325, \"variable\": \"RV\", \"value\": 0.9718309640884399}, {\"deg\": 330, \"variable\": \"RV\", \"value\": 0.9789279103279114}, {\"deg\": 335, \"variable\": \"RV\", \"value\": 0.9811738729476929}, {\"deg\": 340, \"variable\": \"RV\", \"value\": 0.9760236144065857}, {\"deg\": 345, \"variable\": \"RV\", \"value\": 0.9741888046264648}, {\"deg\": 350, \"variable\": \"RV\", \"value\": 0.97665935754776}, {\"deg\": 355, \"variable\": \"RV\", \"value\": 0.9787545800209045}]}}, {\"mode\": \"vega-lite\"});\n",
       "</script>"
      ],
      "text/plain": [
       "alt.FacetChart(...)"
      ]
     },
     "metadata": {},
     "output_type": "display_data"
    },
    {
     "data": {
      "text/html": [
       "\n",
       "<div id=\"altair-viz-c09e420f36e14eaf9b3c37c541bbc1fc\"></div>\n",
       "<script type=\"text/javascript\">\n",
       "  var VEGA_DEBUG = (typeof VEGA_DEBUG == \"undefined\") ? {} : VEGA_DEBUG;\n",
       "  (function(spec, embedOpt){\n",
       "    let outputDiv = document.currentScript.previousElementSibling;\n",
       "    if (outputDiv.id !== \"altair-viz-c09e420f36e14eaf9b3c37c541bbc1fc\") {\n",
       "      outputDiv = document.getElementById(\"altair-viz-c09e420f36e14eaf9b3c37c541bbc1fc\");\n",
       "    }\n",
       "    const paths = {\n",
       "      \"vega\": \"https://cdn.jsdelivr.net/npm//vega@5?noext\",\n",
       "      \"vega-lib\": \"https://cdn.jsdelivr.net/npm//vega-lib?noext\",\n",
       "      \"vega-lite\": \"https://cdn.jsdelivr.net/npm//vega-lite@4.17.0?noext\",\n",
       "      \"vega-embed\": \"https://cdn.jsdelivr.net/npm//vega-embed@6?noext\",\n",
       "    };\n",
       "\n",
       "    function maybeLoadScript(lib, version) {\n",
       "      var key = `${lib.replace(\"-\", \"\")}_version`;\n",
       "      return (VEGA_DEBUG[key] == version) ?\n",
       "        Promise.resolve(paths[lib]) :\n",
       "        new Promise(function(resolve, reject) {\n",
       "          var s = document.createElement('script');\n",
       "          document.getElementsByTagName(\"head\")[0].appendChild(s);\n",
       "          s.async = true;\n",
       "          s.onload = () => {\n",
       "            VEGA_DEBUG[key] = version;\n",
       "            return resolve(paths[lib]);\n",
       "          };\n",
       "          s.onerror = () => reject(`Error loading script: ${paths[lib]}`);\n",
       "          s.src = paths[lib];\n",
       "        });\n",
       "    }\n",
       "\n",
       "    function showError(err) {\n",
       "      outputDiv.innerHTML = `<div class=\"error\" style=\"color:red;\">${err}</div>`;\n",
       "      throw err;\n",
       "    }\n",
       "\n",
       "    function displayChart(vegaEmbed) {\n",
       "      vegaEmbed(outputDiv, spec, embedOpt)\n",
       "        .catch(err => showError(`Javascript Error: ${err.message}<br>This usually means there's a typo in your chart specification. See the javascript console for the full traceback.`));\n",
       "    }\n",
       "\n",
       "    if(typeof define === \"function\" && define.amd) {\n",
       "      requirejs.config({paths});\n",
       "      require([\"vega-embed\"], displayChart, err => showError(`Error loading script: ${err.message}`));\n",
       "    } else {\n",
       "      maybeLoadScript(\"vega\", \"5\")\n",
       "        .then(() => maybeLoadScript(\"vega-lite\", \"4.17.0\"))\n",
       "        .then(() => maybeLoadScript(\"vega-embed\", \"6\"))\n",
       "        .catch(showError)\n",
       "        .then(() => displayChart(vegaEmbed));\n",
       "    }\n",
       "  })({\"config\": {\"view\": {\"continuousWidth\": 400, \"continuousHeight\": 300}}, \"data\": {\"name\": \"data-96a99b14a93efba67bb8738bd4faca1e\"}, \"facet\": {\"column\": {\"field\": \"variable\", \"type\": \"nominal\"}}, \"spec\": {\"mark\": \"point\", \"encoding\": {\"color\": {\"field\": \"variable\", \"type\": \"nominal\"}, \"x\": {\"field\": \"k\", \"type\": \"quantitative\"}, \"y\": {\"field\": \"value\", \"type\": \"quantitative\"}}, \"height\": 200, \"selection\": {\"selector006\": {\"type\": \"interval\", \"bind\": \"scales\", \"encodings\": [\"x\", \"y\"]}}, \"width\": 400}, \"$schema\": \"https://vega.github.io/schema/vega-lite/v4.17.0.json\", \"datasets\": {\"data-96a99b14a93efba67bb8738bd4faca1e\": [{\"k\": 0, \"variable\": \"LV\", \"value\": 1.0}, {\"k\": 1, \"variable\": \"LV\", \"value\": 0.7804622054100037}, {\"k\": 2, \"variable\": \"LV\", \"value\": 0.9510489702224731}, {\"k\": 3, \"variable\": \"LV\", \"value\": 0.7721796035766602}, {\"k\": 4, \"variable\": \"LV\", \"value\": 0.7337209582328796}, {\"k\": 5, \"variable\": \"LV\", \"value\": 0.9467734098434448}, {\"k\": 6, \"variable\": \"LV\", \"value\": 0.9585687518119812}, {\"k\": 7, \"variable\": \"LV\", \"value\": 0.9363507628440857}, {\"k\": 0, \"variable\": \"LV\", \"value\": 1.0}, {\"k\": 1, \"variable\": \"LV\", \"value\": 0.0}, {\"k\": 2, \"variable\": \"LV\", \"value\": 0.9497816562652588}, {\"k\": 3, \"variable\": \"LV\", \"value\": 0.948647141456604}, {\"k\": 4, \"variable\": \"LV\", \"value\": 0.9588732123374939}, {\"k\": 5, \"variable\": \"LV\", \"value\": 0.9579004645347595}, {\"k\": 6, \"variable\": \"LV\", \"value\": 0.7007601857185364}, {\"k\": 7, \"variable\": \"LV\", \"value\": 0.9440175890922546}, {\"k\": 0, \"variable\": \"LV\", \"value\": 1.0}, {\"k\": 1, \"variable\": \"LV\", \"value\": 0.8762080073356628}, {\"k\": 2, \"variable\": \"LV\", \"value\": 0.9511567950248718}, {\"k\": 3, \"variable\": \"LV\", \"value\": 0.49631449580192566}, {\"k\": 4, \"variable\": \"LV\", \"value\": 0.9244768023490906}, {\"k\": 5, \"variable\": \"LV\", \"value\": 0.8773093223571777}, {\"k\": 6, \"variable\": \"LV\", \"value\": 0.8973315358161926}, {\"k\": 7, \"variable\": \"LV\", \"value\": 0.8676809668540955}, {\"k\": 0, \"variable\": \"MY\", \"value\": 1.0}, {\"k\": 1, \"variable\": \"MY\", \"value\": 0.6411764621734619}, {\"k\": 2, \"variable\": \"MY\", \"value\": 0.8700361251831055}, {\"k\": 3, \"variable\": \"MY\", \"value\": 0.4855195879936218}, {\"k\": 4, \"variable\": \"MY\", \"value\": 0.6856240034103394}, {\"k\": 5, \"variable\": \"MY\", \"value\": 0.8149117231369019}, {\"k\": 6, \"variable\": \"MY\", \"value\": 0.8703134655952454}, {\"k\": 7, \"variable\": \"MY\", \"value\": 0.7936102151870728}, {\"k\": 0, \"variable\": \"MY\", \"value\": 1.0}, {\"k\": 1, \"variable\": \"MY\", \"value\": 0.0721442922949791}, {\"k\": 2, \"variable\": \"MY\", \"value\": 0.8158996105194092}, {\"k\": 3, \"variable\": \"MY\", \"value\": 0.640625}, {\"k\": 4, \"variable\": \"MY\", \"value\": 0.7844444513320923}, {\"k\": 5, \"variable\": \"MY\", \"value\": 0.8486707806587219}, {\"k\": 6, \"variable\": \"MY\", \"value\": 0.523952066898346}, {\"k\": 7, \"variable\": \"MY\", \"value\": 0.6601941585540771}, {\"k\": 0, \"variable\": \"MY\", \"value\": 1.0}, {\"k\": 1, \"variable\": \"MY\", \"value\": 0.671999990940094}, {\"k\": 2, \"variable\": \"MY\", \"value\": 0.6859562397003174}, {\"k\": 3, \"variable\": \"MY\", \"value\": 0.5016025900840759}, {\"k\": 4, \"variable\": \"MY\", \"value\": 0.7245950102806091}, {\"k\": 5, \"variable\": \"MY\", \"value\": 0.671875}, {\"k\": 6, \"variable\": \"MY\", \"value\": 0.6966292262077332}, {\"k\": 7, \"variable\": \"MY\", \"value\": 0.6595744490623474}, {\"k\": 0, \"variable\": \"RV\", \"value\": 1.0}, {\"k\": 1, \"variable\": \"RV\", \"value\": 0.43012553453445435}, {\"k\": 2, \"variable\": \"RV\", \"value\": 0.6081668138504028}, {\"k\": 3, \"variable\": \"RV\", \"value\": 0.0}, {\"k\": 4, \"variable\": \"RV\", \"value\": 0.0}, {\"k\": 5, \"variable\": \"RV\", \"value\": 0.8767322897911072}, {\"k\": 6, \"variable\": \"RV\", \"value\": 0.145454540848732}, {\"k\": 7, \"variable\": \"RV\", \"value\": 0.8983286619186401}, {\"k\": 0, \"variable\": \"RV\", \"value\": 1.0}, {\"k\": 1, \"variable\": \"RV\", \"value\": 0.0}, {\"k\": 2, \"variable\": \"RV\", \"value\": 0.4008738398551941}, {\"k\": 3, \"variable\": \"RV\", \"value\": 0.0}, {\"k\": 4, \"variable\": \"RV\", \"value\": 0.0}, {\"k\": 5, \"variable\": \"RV\", \"value\": 0.8826901316642761}, {\"k\": 6, \"variable\": \"RV\", \"value\": 0.0}, {\"k\": 7, \"variable\": \"RV\", \"value\": 0.8527559041976929}, {\"k\": 0, \"variable\": \"RV\", \"value\": 1.0}, {\"k\": 1, \"variable\": \"RV\", \"value\": 0.0}, {\"k\": 2, \"variable\": \"RV\", \"value\": 0.26384568214416504}, {\"k\": 3, \"variable\": \"RV\", \"value\": 0.0}, {\"k\": 4, \"variable\": \"RV\", \"value\": 0.0}, {\"k\": 5, \"variable\": \"RV\", \"value\": 0.9312452077865601}, {\"k\": 6, \"variable\": \"RV\", \"value\": 0.0}, {\"k\": 7, \"variable\": \"RV\", \"value\": 0.5842921733856201}]}}, {\"mode\": \"vega-lite\"});\n",
       "</script>"
      ],
      "text/plain": [
       "alt.FacetChart(...)"
      ]
     },
     "metadata": {},
     "output_type": "display_data"
    }
   ],
   "source": [
    "plots = plot_batch(results_with_truths, partial(plot_avg_and_dots, draw_line=False))"
   ]
  }
 ],
 "metadata": {
  "kernelspec": {
   "display_name": "misas",
   "language": "python",
   "name": "misas"
  }
 },
 "nbformat": 4,
 "nbformat_minor": 5
}
