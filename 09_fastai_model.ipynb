{
 "cells": [
  {
   "cell_type": "markdown",
   "id": "ada5a779-35f1-4b25-85eb-4addf5ece48c",
   "metadata": {},
   "source": [
    "# Fastai Model (misas)"
   ]
  },
  {
   "cell_type": "code",
   "execution_count": null,
   "id": "d697742e-9cc6-4d6b-8198-56d8e8c9eb96",
   "metadata": {},
   "outputs": [],
   "source": [
    "#hide\n",
    "#skip\n",
    "! [[ -e /content ]] && git clone https://github.com/chfc-cmi/misas && cd misas && pip install .\n",
    "import os\n",
    "if os.path.isdir('/content/misas'):\n",
    "    os.chdir('/content/misas')"
   ]
  },
  {
   "cell_type": "code",
   "execution_count": null,
   "id": "10a01966-60ed-43db-9f0c-bf814303c3f4",
   "metadata": {},
   "outputs": [],
   "source": [
    "#default_exp fastai_model"
   ]
  },
  {
   "cell_type": "code",
   "execution_count": null,
   "id": "3e5b5f2a-19c0-443f-bcda-6b9745ed0a3e",
   "metadata": {},
   "outputs": [],
   "source": [
    "#exporti\n",
    "from fastai.vision.all import Learner, ProgressCallback, PILImage #for loading the sample model\n",
    "import torch #for loading the sample model\n",
    "from PIL import Image, ImageEnhance, ImageShow, ImageOps\n",
    "import numpy as np\n",
    "import torch"
   ]
  },
  {
   "cell_type": "code",
   "execution_count": null,
   "id": "09250aee-2a66-4354-a3c5-d8dd7ff994a3",
   "metadata": {},
   "outputs": [],
   "source": [
    "#export\n",
    "class Fastai2_model:\n",
    "    def __init__(self, github, model, force_reload=False):\n",
    "        self.trainedModel = torch.hub.load(github,model, force_reload = force_reload)\n",
    "        self.resize256 = lambda x: x.resize ((256,256))\n",
    "        self.trainedModel.remove_cbs(ProgressCallback)\n",
    "\n",
    "        \n",
    "    def prepareSize(self, item):\n",
    "        return self.resize256(item)\n",
    "    \n",
    "    def predict(self, image):\n",
    "        image = PILImage.create(np.array(image))\n",
    "        output = self.trainedModel.predict(image)\n",
    "        output = PILImage.create(output [0])\n",
    "        output = Image.fromarray(np.array(output)) #mode=\"I\"\n",
    "        return output #output PIL.Image.Image mode=\"L\""
   ]
  },
  {
   "cell_type": "code",
   "execution_count": null,
   "id": "32a6d50f-f30a-4a7d-b634-a8a5b58b8484",
   "metadata": {},
   "outputs": [],
   "source": []
  },
  {
   "cell_type": "code",
   "execution_count": null,
   "id": "2481d394-24a2-4a34-b9a1-8205731a3e9a",
   "metadata": {},
   "outputs": [],
   "source": []
  }
 ],
 "metadata": {
  "kernelspec": {
   "display_name": "Python 3 (ipykernel)",
   "language": "python",
   "name": "python3"
  }
 },
 "nbformat": 4,
 "nbformat_minor": 5
}
